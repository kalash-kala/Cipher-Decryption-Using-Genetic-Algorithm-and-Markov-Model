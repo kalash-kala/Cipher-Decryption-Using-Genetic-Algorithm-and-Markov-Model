{
 "cells": [
  {
   "cell_type": "code",
   "execution_count": 50,
   "metadata": {},
   "outputs": [],
   "source": [
    "from collections import defaultdict\n",
    "\n",
    "import pandas as pd\n",
    "import numpy as np\n",
    "import string\n",
    "import random\n",
    "import copy\n",
    "import matplotlib.pyplot as plt\n",
    "import textwrap\n",
    "import re\n",
    "import matplotlib.pyplot as plt"
   ]
  },
  {
   "cell_type": "code",
   "execution_count": 51,
   "metadata": {},
   "outputs": [],
   "source": [
    "wrapper = textwrap.TextWrapper(width=80)"
   ]
  },
  {
   "attachments": {},
   "cell_type": "markdown",
   "metadata": {},
   "source": [
    "### Create Original substitution cipher sequence"
   ]
  },
  {
   "cell_type": "code",
   "execution_count": 52,
   "metadata": {},
   "outputs": [],
   "source": [
    "alphabets_1 = list(string.ascii_lowercase)\n",
    "alphabets_2 = list(string.ascii_lowercase)"
   ]
  },
  {
   "cell_type": "code",
   "execution_count": 53,
   "metadata": {},
   "outputs": [],
   "source": [
    "random.shuffle(alphabets_2)"
   ]
  },
  {
   "cell_type": "code",
   "execution_count": 54,
   "metadata": {},
   "outputs": [
    {
     "data": {
      "text/plain": [
       "{'a': 's',\n",
       " 'b': 'p',\n",
       " 'c': 'n',\n",
       " 'd': 'q',\n",
       " 'e': 'o',\n",
       " 'f': 'i',\n",
       " 'g': 'j',\n",
       " 'h': 't',\n",
       " 'i': 'u',\n",
       " 'j': 'w',\n",
       " 'k': 'h',\n",
       " 'l': 'z',\n",
       " 'm': 'e',\n",
       " 'n': 'r',\n",
       " 'o': 'a',\n",
       " 'p': 'y',\n",
       " 'q': 'b',\n",
       " 'r': 'v',\n",
       " 's': 'x',\n",
       " 't': 'c',\n",
       " 'u': 'f',\n",
       " 'v': 'm',\n",
       " 'w': 'd',\n",
       " 'x': 'k',\n",
       " 'y': 'g',\n",
       " 'z': 'l'}"
      ]
     },
     "execution_count": 54,
     "metadata": {},
     "output_type": "execute_result"
    }
   ],
   "source": [
    "original_substitution_mapping = {}\n",
    "\n",
    "for index, val in enumerate(alphabets_1):\n",
    "    original_substitution_mapping[val] = alphabets_2[index]\n",
    "    \n",
    "original_substitution_mapping"
   ]
  },
  {
   "attachments": {},
   "cell_type": "markdown",
   "metadata": {},
   "source": [
    "### Declaring requisite functions :"
   ]
  },
  {
   "cell_type": "code",
   "execution_count": 55,
   "metadata": {},
   "outputs": [],
   "source": [
    "initial_state_distribution = defaultdict(int)\n",
    "state_transition_dictionary = defaultdict(dict)"
   ]
  },
  {
   "attachments": {},
   "cell_type": "markdown",
   "metadata": {},
   "source": [
    "#### Function to fill the initial state distribution"
   ]
  },
  {
   "cell_type": "code",
   "execution_count": 56,
   "metadata": {},
   "outputs": [],
   "source": [
    "def fill_initial_state_distribution(character : str):\n",
    "    \n",
    "    initial_state_distribution[character]+=1\n"
   ]
  },
  {
   "attachments": {},
   "cell_type": "markdown",
   "metadata": {},
   "source": [
    "### Function to fill the state transition dictionary"
   ]
  },
  {
   "cell_type": "code",
   "execution_count": 57,
   "metadata": {},
   "outputs": [],
   "source": [
    "def fill_state_transition_dictionary(character_1 : str, character_2 : str):\n",
    "    \n",
    "    if character_2 not in state_transition_dictionary[character_1].keys():\n",
    "        state_transition_dictionary[character_1][character_2] = 0\n",
    "    \n",
    "    state_transition_dictionary[character_1][character_2]+=1"
   ]
  },
  {
   "attachments": {},
   "cell_type": "markdown",
   "metadata": {},
   "source": [
    "### Convert dictionary to probability distribution"
   ]
  },
  {
   "cell_type": "code",
   "execution_count": 58,
   "metadata": {},
   "outputs": [],
   "source": [
    "def convert_to_probability_distribution():\n",
    "    \n",
    "    val_sum = sum(list(initial_state_distribution.values()))\n",
    "\n",
    "    for keys in initial_state_distribution.keys():\n",
    "        initial_state_distribution[keys]/=val_sum\n",
    "\n",
    "    for outer in state_transition_dictionary.keys():\n",
    "        val_sum = sum(list(state_transition_dictionary[outer].values()))\n",
    "        \n",
    "        for inner in state_transition_dictionary[outer].keys():\n",
    "            state_transition_dictionary[outer][inner]/=val_sum\n",
    "\n",
    "    "
   ]
  },
  {
   "attachments": {},
   "cell_type": "markdown",
   "metadata": {},
   "source": [
    "### Function to calculate log probabilities"
   ]
  },
  {
   "cell_type": "code",
   "execution_count": 59,
   "metadata": {},
   "outputs": [],
   "source": [
    "def log_probability(word : str) -> float:\n",
    "    \n",
    "    log_score = 0\n",
    "    for i in range(len(word)):\n",
    "        \n",
    "        if i==0:\n",
    "            log_score+=np.log(initial_state_distribution[word[i]])\n",
    "        else :\n",
    "            if word[i] in state_transition_dictionary[word[i-1]].keys():\n",
    "                log_score+=np.log(state_transition_dictionary[word[i-1]][word[i]])\n",
    "            else :\n",
    "                log_score+=np.log(1e-7)\n",
    "    \n",
    "    return log_score"
   ]
  },
  {
   "attachments": {},
   "cell_type": "markdown",
   "metadata": {},
   "source": [
    "### Function to calculate the total score of the entire Decrypted message"
   ]
  },
  {
   "cell_type": "code",
   "execution_count": 60,
   "metadata": {},
   "outputs": [],
   "source": [
    "def get_score(text : str) -> float:\n",
    "    \n",
    "    score = 0\n",
    "    for word in text.split():\n",
    "        score+=log_probability(word)\n",
    "        \n",
    "    return score\n",
    "        "
   ]
  },
  {
   "attachments": {},
   "cell_type": "markdown",
   "metadata": {},
   "source": [
    "### Training the model on Moby Dick corpus"
   ]
  },
  {
   "cell_type": "code",
   "execution_count": 61,
   "metadata": {},
   "outputs": [
    {
     "data": {
      "text/html": [
       "<div>\n",
       "<style scoped>\n",
       "    .dataframe tbody tr th:only-of-type {\n",
       "        vertical-align: middle;\n",
       "    }\n",
       "\n",
       "    .dataframe tbody tr th {\n",
       "        vertical-align: top;\n",
       "    }\n",
       "\n",
       "    .dataframe thead th {\n",
       "        text-align: right;\n",
       "    }\n",
       "</style>\n",
       "<table border=\"1\" class=\"dataframe\">\n",
       "  <thead>\n",
       "    <tr style=\"text-align: right;\">\n",
       "      <th></th>\n",
       "      <th>Text</th>\n",
       "    </tr>\n",
       "  </thead>\n",
       "  <tbody>\n",
       "    <tr>\n",
       "      <th>0</th>\n",
       "      <td>﻿CHAPTER 1. Loomings.\\n</td>\n",
       "    </tr>\n",
       "    <tr>\n",
       "      <th>1</th>\n",
       "      <td>\\n</td>\n",
       "    </tr>\n",
       "    <tr>\n",
       "      <th>2</th>\n",
       "      <td>Call me Ishmael. Some years ago—never mind how...</td>\n",
       "    </tr>\n",
       "    <tr>\n",
       "      <th>3</th>\n",
       "      <td>little or no money in my purse, and nothing pa...</td>\n",
       "    </tr>\n",
       "    <tr>\n",
       "      <th>4</th>\n",
       "      <td>on shore, I thought I would sail about a littl...</td>\n",
       "    </tr>\n",
       "    <tr>\n",
       "      <th>...</th>\n",
       "      <td>...</td>\n",
       "    </tr>\n",
       "    <tr>\n",
       "      <th>21111</th>\n",
       "      <td>unharming sharks, they glided by as if with pa...</td>\n",
       "    </tr>\n",
       "    <tr>\n",
       "      <th>21112</th>\n",
       "      <td>the savage sea-hawks sailed with sheathed beak...</td>\n",
       "    </tr>\n",
       "    <tr>\n",
       "      <th>21113</th>\n",
       "      <td>sail drew near, nearer, and picked me up at la...</td>\n",
       "    </tr>\n",
       "    <tr>\n",
       "      <th>21114</th>\n",
       "      <td>devious-cruising Rachel, that in her retracing...</td>\n",
       "    </tr>\n",
       "    <tr>\n",
       "      <th>21115</th>\n",
       "      <td>children, only found another orphan.\\n</td>\n",
       "    </tr>\n",
       "  </tbody>\n",
       "</table>\n",
       "<p>21116 rows × 1 columns</p>\n",
       "</div>"
      ],
      "text/plain": [
       "                                                    Text\n",
       "0                                ﻿CHAPTER 1. Loomings.\\n\n",
       "1                                                     \\n\n",
       "2      Call me Ishmael. Some years ago—never mind how...\n",
       "3      little or no money in my purse, and nothing pa...\n",
       "4      on shore, I thought I would sail about a littl...\n",
       "...                                                  ...\n",
       "21111  unharming sharks, they glided by as if with pa...\n",
       "21112  the savage sea-hawks sailed with sheathed beak...\n",
       "21113  sail drew near, nearer, and picked me up at la...\n",
       "21114  devious-cruising Rachel, that in her retracing...\n",
       "21115             children, only found another orphan.\\n\n",
       "\n",
       "[21116 rows x 1 columns]"
      ]
     },
     "execution_count": 61,
     "metadata": {},
     "output_type": "execute_result"
    }
   ],
   "source": [
    "with open('moby_dick.txt') as f:\n",
    "    training_corpus = pd.DataFrame(data=f.readlines(),columns=['Text'])\n",
    "    \n",
    "training_corpus"
   ]
  },
  {
   "cell_type": "code",
   "execution_count": 62,
   "metadata": {},
   "outputs": [
    {
     "data": {
      "text/html": [
       "<div>\n",
       "<style scoped>\n",
       "    .dataframe tbody tr th:only-of-type {\n",
       "        vertical-align: middle;\n",
       "    }\n",
       "\n",
       "    .dataframe tbody tr th {\n",
       "        vertical-align: top;\n",
       "    }\n",
       "\n",
       "    .dataframe thead th {\n",
       "        text-align: right;\n",
       "    }\n",
       "</style>\n",
       "<table border=\"1\" class=\"dataframe\">\n",
       "  <thead>\n",
       "    <tr style=\"text-align: right;\">\n",
       "      <th></th>\n",
       "      <th>Text</th>\n",
       "    </tr>\n",
       "  </thead>\n",
       "  <tbody>\n",
       "    <tr>\n",
       "      <th>0</th>\n",
       "      <td>chapter    loomings</td>\n",
       "    </tr>\n",
       "    <tr>\n",
       "      <th>1</th>\n",
       "      <td>call me ishmael  some years ago never mind how...</td>\n",
       "    </tr>\n",
       "    <tr>\n",
       "      <th>2</th>\n",
       "      <td>little or no money in my purse  and nothing pa...</td>\n",
       "    </tr>\n",
       "    <tr>\n",
       "      <th>3</th>\n",
       "      <td>on shore  i thought i would sail about a littl...</td>\n",
       "    </tr>\n",
       "    <tr>\n",
       "      <th>4</th>\n",
       "      <td>of the world  it is a way i have of driving of...</td>\n",
       "    </tr>\n",
       "    <tr>\n",
       "      <th>...</th>\n",
       "      <td>...</td>\n",
       "    </tr>\n",
       "    <tr>\n",
       "      <th>18384</th>\n",
       "      <td>unharming sharks  they glided by as if with pa...</td>\n",
       "    </tr>\n",
       "    <tr>\n",
       "      <th>18385</th>\n",
       "      <td>the savage sea hawks sailed with sheathed beak...</td>\n",
       "    </tr>\n",
       "    <tr>\n",
       "      <th>18386</th>\n",
       "      <td>sail drew near  nearer  and picked me up at la...</td>\n",
       "    </tr>\n",
       "    <tr>\n",
       "      <th>18387</th>\n",
       "      <td>devious cruising rachel  that in her retracing...</td>\n",
       "    </tr>\n",
       "    <tr>\n",
       "      <th>18388</th>\n",
       "      <td>children  only found another orphan</td>\n",
       "    </tr>\n",
       "  </tbody>\n",
       "</table>\n",
       "<p>18389 rows × 1 columns</p>\n",
       "</div>"
      ],
      "text/plain": [
       "                                                    Text\n",
       "0                                    chapter    loomings\n",
       "1      call me ishmael  some years ago never mind how...\n",
       "2      little or no money in my purse  and nothing pa...\n",
       "3      on shore  i thought i would sail about a littl...\n",
       "4      of the world  it is a way i have of driving of...\n",
       "...                                                  ...\n",
       "18384  unharming sharks  they glided by as if with pa...\n",
       "18385  the savage sea hawks sailed with sheathed beak...\n",
       "18386  sail drew near  nearer  and picked me up at la...\n",
       "18387  devious cruising rachel  that in her retracing...\n",
       "18388                children  only found another orphan\n",
       "\n",
       "[18389 rows x 1 columns]"
      ]
     },
     "execution_count": 62,
     "metadata": {},
     "output_type": "execute_result"
    }
   ],
   "source": [
    "regex = re.compile('[^a-zA-Z]')\n",
    "\n",
    "training_corpus['Text'] = training_corpus['Text'].apply(lambda x : regex.sub(' ',x))\n",
    "training_corpus['Text'] = training_corpus['Text'].apply(lambda x : x.strip().lower())\n",
    "training_corpus = training_corpus.drop(training_corpus.loc[training_corpus['Text']==''].index).reset_index(drop=True)\n",
    "\n",
    "training_corpus"
   ]
  },
  {
   "cell_type": "code",
   "execution_count": 63,
   "metadata": {},
   "outputs": [],
   "source": [
    "for text in training_corpus['Text']:\n",
    "    \n",
    "    for word in text.split():\n",
    "        for index in range(len(word)):\n",
    "            if index==0:\n",
    "                fill_initial_state_distribution(character=word[index])\n",
    "            else:\n",
    "                fill_state_transition_dictionary(character_1=word[index-1],character_2=word[index])\n",
    "    \n",
    "convert_to_probability_distribution()  "
   ]
  },
  {
   "cell_type": "code",
   "execution_count": 64,
   "metadata": {},
   "outputs": [
    {
     "data": {
      "text/plain": [
       "defaultdict(int,\n",
       "            {'c': 0.038984266564820076,\n",
       "             'l': 0.028313662658009706,\n",
       "             'm': 0.03907276131568407,\n",
       "             'i': 0.0672094344719658,\n",
       "             's': 0.09260742796993042,\n",
       "             'y': 0.011639388547847714,\n",
       "             'a': 0.10945403396335386,\n",
       "             'n': 0.02232396531005766,\n",
       "             'h': 0.06393978630846475,\n",
       "             'p': 0.02815996124861436,\n",
       "             'o': 0.06497377760803347,\n",
       "             't': 0.16422762712969605,\n",
       "             'w': 0.06738176635522725,\n",
       "             'd': 0.027121312330579128,\n",
       "             'r': 0.018006352991588342,\n",
       "             'f': 0.03850453186276793,\n",
       "             'g': 0.01632961034363909,\n",
       "             'b': 0.052006967797225925,\n",
       "             'u': 0.012305427988560888,\n",
       "             'e': 0.018248549151847676,\n",
       "             'k': 0.004429395161665937,\n",
       "             'q': 0.0033348548220323983,\n",
       "             'v': 0.007335749084777971,\n",
       "             'j': 0.003907741893415059,\n",
       "             'z': 0.00015835902786187368,\n",
       "             'x': 2.328809233262848e-05})"
      ]
     },
     "execution_count": 64,
     "metadata": {},
     "output_type": "execute_result"
    }
   ],
   "source": [
    "initial_state_distribution"
   ]
  },
  {
   "cell_type": "code",
   "execution_count": 65,
   "metadata": {},
   "outputs": [
    {
     "data": {
      "text/plain": [
       "26"
      ]
     },
     "execution_count": 65,
     "metadata": {},
     "output_type": "execute_result"
    }
   ],
   "source": [
    "len(initial_state_distribution)"
   ]
  },
  {
   "cell_type": "code",
   "execution_count": 66,
   "metadata": {},
   "outputs": [
    {
     "data": {
      "text/plain": [
       "1.0"
      ]
     },
     "execution_count": 66,
     "metadata": {},
     "output_type": "execute_result"
    }
   ],
   "source": [
    "sum(initial_state_distribution.values())"
   ]
  },
  {
   "cell_type": "code",
   "execution_count": 67,
   "metadata": {},
   "outputs": [
    {
     "data": {
      "text/plain": [
       "0.9999999999999999"
      ]
     },
     "execution_count": 67,
     "metadata": {},
     "output_type": "execute_result"
    }
   ],
   "source": [
    "sum(state_transition_dictionary['c'].values())"
   ]
  },
  {
   "attachments": {},
   "cell_type": "markdown",
   "metadata": {},
   "source": [
    "### Message Encoder"
   ]
  },
  {
   "cell_type": "code",
   "execution_count": 68,
   "metadata": {},
   "outputs": [],
   "source": [
    "def encode(message : str) -> str:\n",
    "    \n",
    "    message = message.lower().strip()\n",
    "    message = regex.sub(' ',message)\n",
    "    \n",
    "    cipher_text = \"\"\n",
    "    for char in message:\n",
    "        if char in original_substitution_mapping.keys():\n",
    "            cipher_text+=original_substitution_mapping[char]\n",
    "        else :\n",
    "            cipher_text+=char\n",
    "    \n",
    "    return cipher_text"
   ]
  },
  {
   "cell_type": "code",
   "execution_count": 69,
   "metadata": {},
   "outputs": [
    {
     "name": "stdout",
     "output_type": "stream",
     "text": [
      "I then lounged down the street and found, as I expected, that there was a mews\n",
      "in a lane which runs down by one wall of the garden. I lent the ostlers a hand\n",
      "in rubbing down their horses, and received in exchange twopence, a glass of\n",
      "half-and-half, two fills of shag tobacco, and as much information as I could\n",
      "desire about Miss Adler, to say nothing of half a dozen other people in the\n",
      "neighbourhood in whom I was not in the least interested, but whose biographies I\n",
      "was compelled to listen to.\n"
     ]
    }
   ],
   "source": [
    "message = \"I then lounged down the street and found, as I expected, that there was a mews in a lane which runs down by one wall of the garden. I lent the ostlers a hand in rubbing down their horses, and received in exchange twopence, a glass of half-and-half, two fills of shag tobacco, and as much information as I could desire about Miss Adler, to say nothing of half a dozen other people in the neighbourhood in whom I was not in the least interested, but whose biographies I was compelled to listen to.\"\n",
    "print(\"\\n\".join(wrapper.wrap(message)))"
   ]
  },
  {
   "cell_type": "code",
   "execution_count": 70,
   "metadata": {},
   "outputs": [
    {
     "data": {
      "text/plain": [
       "-932.9507586952323"
      ]
     },
     "execution_count": 70,
     "metadata": {},
     "output_type": "execute_result"
    }
   ],
   "source": [
    "message_sub = regex.sub(' ',message).lower().strip()\n",
    "get_score(message_sub)"
   ]
  },
  {
   "cell_type": "code",
   "execution_count": 71,
   "metadata": {},
   "outputs": [
    {
     "data": {
      "text/plain": [
       "'u ctor zafrjoq qadr cto xcvooc srq iafrq  sx u okyoncoq  ctsc ctovo dsx s eodx ur s zsro dtunt vfrx qadr pg aro dszz ai cto jsvqor  u zorc cto axczovx s tsrq ur vfppurj qadr ctouv tavxox  srq vonoumoq ur okntsrjo cdayorno  s jzsxx ai tszi srq tszi  cda iuzzx ai xtsj capsnna  srq sx efnt uriavescuar sx u nafzq qoxuvo spafc euxx sqzov  ca xsg racturj ai tszi s qalor actov yoayzo ur cto roujtpafvtaaq ur dtae u dsx rac ur cto zosxc urcovoxcoq  pfc dtaxo puajvsytuox u dsx naeyozzoq ca zuxcor ca '"
      ]
     },
     "execution_count": 71,
     "metadata": {},
     "output_type": "execute_result"
    }
   ],
   "source": [
    "cipher_text = encode(message)\n",
    "cipher_text"
   ]
  },
  {
   "attachments": {},
   "cell_type": "markdown",
   "metadata": {},
   "source": [
    "#### Encoded Message"
   ]
  },
  {
   "cell_type": "code",
   "execution_count": 80,
   "metadata": {},
   "outputs": [
    {
     "name": "stdout",
     "output_type": "stream",
     "text": [
      "u ctor zafrjoq qadr cto xcvooc srq iafrq  sx u okyoncoq  ctsc ctovo dsx s eodx\n",
      "ur s zsro dtunt vfrx qadr pg aro dszz ai cto jsvqor  u zorc cto axczovx s tsrq\n",
      "ur vfppurj qadr ctouv tavxox  srq vonoumoq ur okntsrjo cdayorno  s jzsxx ai tszi\n",
      "srq tszi  cda iuzzx ai xtsj capsnna  srq sx efnt uriavescuar sx u nafzq qoxuvo\n",
      "spafc euxx sqzov  ca xsg racturj ai tszi s qalor actov yoayzo ur cto\n",
      "roujtpafvtaaq ur dtae u dsx rac ur cto zosxc urcovoxcoq  pfc dtaxo puajvsytuox u\n",
      "dsx naeyozzoq ca zuxcor ca\n"
     ]
    }
   ],
   "source": [
    "print(\"\\n\".join(wrapper.wrap(cipher_text)))"
   ]
  },
  {
   "attachments": {},
   "cell_type": "markdown",
   "metadata": {},
   "source": [
    "### CipherText Decoder Using custom substitution mapping"
   ]
  },
  {
   "cell_type": "code",
   "execution_count": 72,
   "metadata": {},
   "outputs": [],
   "source": [
    "def decode(cipher_text : str, mapping : dict) -> str:\n",
    "    \n",
    "    decoded_message = \"\"\n",
    "    for char in cipher_text:\n",
    "        if char in mapping.keys():\n",
    "            decoded_message+=mapping[char]\n",
    "        else :\n",
    "            decoded_message+=char\n",
    "    \n",
    "    return decoded_message\n",
    "    "
   ]
  },
  {
   "attachments": {},
   "cell_type": "markdown",
   "metadata": {},
   "source": [
    "### Setup for the Genetic Algorithm"
   ]
  },
  {
   "cell_type": "code",
   "execution_count": 73,
   "metadata": {},
   "outputs": [],
   "source": [
    "def get_n_random(n : int):\n",
    "    \n",
    "    random_letter_combination = []\n",
    "    for i in range(n):\n",
    "        pool = list(string.ascii_lowercase)\n",
    "        random.shuffle(pool)\n",
    "        random_letter_combination.append(pool)\n",
    "    \n",
    "    return random_letter_combination"
   ]
  },
  {
   "cell_type": "code",
   "execution_count": 74,
   "metadata": {},
   "outputs": [],
   "source": [
    "def alter_subtitution_mapping(pool : list, children : int):\n",
    "    \n",
    "    new_pool = []\n",
    "    \n",
    "    for p in pool:\n",
    "        for i in range(children):\n",
    "            sub = p.copy()\n",
    "            pos1 = random.randint(0,len(sub)-1)\n",
    "            pos2 = random.randint(0,len(sub)-1)\n",
    "            \n",
    "            temp = sub[pos1]\n",
    "            sub[pos1] = sub[pos2]\n",
    "            sub[pos2] = temp\n",
    "        \n",
    "            new_pool.append(sub)\n",
    "    \n",
    "    return new_pool + pool\n",
    "    "
   ]
  },
  {
   "attachments": {},
   "cell_type": "markdown",
   "metadata": {},
   "source": [
    "### Actual Genetic Algorithm"
   ]
  },
  {
   "cell_type": "code",
   "execution_count": 75,
   "metadata": {},
   "outputs": [],
   "source": [
    "epochs = 1000\n",
    "scores = []\n",
    "pool = []\n",
    "\n",
    "for i in range(epochs):\n",
    "    \n",
    "    if i==0:\n",
    "        pool = get_n_random(20)\n",
    "    else :\n",
    "        pool = alter_subtitution_mapping(pool,3)\n",
    "    \n",
    "    ranking = []\n",
    "    \n",
    "    for p in pool:\n",
    "        curr_mapping = {}\n",
    "        for key, val in zip(alphabets_1,p):\n",
    "            curr_mapping[key] = val\n",
    "        \n",
    "        score = get_score(decode(cipher_text,curr_mapping))\n",
    "        ranking.append((score,curr_mapping))\n",
    "        \n",
    "    ranking = sorted(ranking,key=lambda x : x[0],reverse=True)\n",
    "    scores.append(ranking[0][0])\n",
    "    pool = [list(x[1].values()) for x in ranking[:5]]\n",
    "        \n"
   ]
  },
  {
   "cell_type": "code",
   "execution_count": 76,
   "metadata": {},
   "outputs": [
    {
     "data": {
      "text/plain": [
       "-938.6429617065294"
      ]
     },
     "execution_count": 76,
     "metadata": {},
     "output_type": "execute_result"
    }
   ],
   "source": [
    "get_score(decode(cipher_text,ranking[0][1]))"
   ]
  },
  {
   "attachments": {},
   "cell_type": "markdown",
   "metadata": {},
   "source": [
    "### Decoded Cipher Text"
   ]
  },
  {
   "cell_type": "code",
   "execution_count": 77,
   "metadata": {},
   "outputs": [
    {
     "name": "stdout",
     "output_type": "stream",
     "text": [
      "i then lounged down the street and found  as i exyected  that there was a bews\n",
      "in a lane which runs down mp one wall of the garden  i lent the ostlers a hand\n",
      "in rumming down their horses  and received in exchange twoyence  a glass of half\n",
      "and half  two fills of shag tomacco  and as buch inforbation as i could desire\n",
      "amout biss adler  to sap nothing of half a doken other yeoyle in the\n",
      "neighmourhood in whob i was not in the least interested  mut whose miograyhies i\n",
      "was cobyelled to listen to\n"
     ]
    }
   ],
   "source": [
    "print('\\n'.join(wrapper.wrap(decode(cipher_text,ranking[0][1]))))"
   ]
  },
  {
   "attachments": {},
   "cell_type": "markdown",
   "metadata": {},
   "source": [
    "### Original Message"
   ]
  },
  {
   "cell_type": "code",
   "execution_count": 79,
   "metadata": {},
   "outputs": [
    {
     "name": "stdout",
     "output_type": "stream",
     "text": [
      "I then lounged down the street and found, as I expected, that there was a mews\n",
      "in a lane which runs down by one wall of the garden. I lent the ostlers a hand\n",
      "in rubbing down their horses, and received in exchange twopence, a glass of\n",
      "half-and-half, two fills of shag tobacco, and as much information as I could\n",
      "desire about Miss Adler, to say nothing of half a dozen other people in the\n",
      "neighbourhood in whom I was not in the least interested, but whose biographies I\n",
      "was compelled to listen to.\n"
     ]
    }
   ],
   "source": [
    "print(\"\\n\".join(wrapper.wrap(message)))"
   ]
  },
  {
   "cell_type": "code",
   "execution_count": 78,
   "metadata": {},
   "outputs": [
    {
     "data": {
      "text/plain": [
       "[<matplotlib.lines.Line2D at 0x7fe19a81c4c0>]"
      ]
     },
     "execution_count": 78,
     "metadata": {},
     "output_type": "execute_result"
    },
    {
     "data": {
      "image/png": "[encoded data removed]",
      "text/plain": [
       "<Figure size 432x288 with 1 Axes>"
      ]
     },
     "metadata": {
      "needs_background": "light"
     },
     "output_type": "display_data"
    }
   ],
   "source": [
    "plt.plot(scores)"
   ]
  }
 ],
 "metadata": {
  "kernelspec": {
   "display_name": "base",
   "language": "python",
   "name": "python3"
  },
  "language_info": {
   "codemirror_mode": {
    "name": "ipython",
    "version": 3
   },
   "file_extension": ".py",
   "mimetype": "text/x-python",
   "name": "python",
   "nbconvert_exporter": "python",
   "pygments_lexer": "ipython3",
   "version": "3.9.12"
  },
  "orig_nbformat": 4
 },
 "nbformat": 4,
 "nbformat_minor": 2
}
